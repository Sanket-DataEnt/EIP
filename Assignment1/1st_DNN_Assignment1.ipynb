{
  "nbformat": 4,
  "nbformat_minor": 0,
  "metadata": {
    "colab": {
      "name": "1st_DNN.ipynb",
      "provenance": [],
      "collapsed_sections": []
    },
    "kernelspec": {
      "name": "python3",
      "display_name": "Python 3"
    },
    "accelerator": "GPU"
  },
  "cells": [
    {
      "cell_type": "markdown",
      "metadata": {
        "id": "aNyZv-Ec52ot",
        "colab_type": "text"
      },
      "source": [
        "# **Import Libraries and modules**"
      ]
    },
    {
      "cell_type": "code",
      "metadata": {
        "id": "3m3w1Cw49Zkt",
        "colab_type": "code",
        "outputId": "456a7e65-d369-456b-88fb-cd3899b0a418",
        "colab": {
          "base_uri": "https://localhost:8080/",
          "height": 81
        }
      },
      "source": [
        "# https://keras.io/\n",
        "!pip install -q keras\n",
        "import keras"
      ],
      "execution_count": 1,
      "outputs": [
        {
          "output_type": "stream",
          "text": [
            "Using TensorFlow backend.\n"
          ],
          "name": "stderr"
        },
        {
          "output_type": "display_data",
          "data": {
            "text/html": [
              "<p style=\"color: red;\">\n",
              "The default version of TensorFlow in Colab will soon switch to TensorFlow 2.x.<br>\n",
              "We recommend you <a href=\"https://www.tensorflow.org/guide/migrate\" target=\"_blank\">upgrade</a> now \n",
              "or ensure your notebook will continue to use TensorFlow 1.x via the <code>%tensorflow_version 1.x</code> magic:\n",
              "<a href=\"https://colab.research.google.com/notebooks/tensorflow_version.ipynb\" target=\"_blank\">more info</a>.</p>\n"
            ],
            "text/plain": [
              "<IPython.core.display.HTML object>"
            ]
          },
          "metadata": {
            "tags": []
          }
        }
      ]
    },
    {
      "cell_type": "code",
      "metadata": {
        "id": "Eso6UHE080D4",
        "colab_type": "code",
        "colab": {}
      },
      "source": [
        "import numpy as np\n",
        "\n",
        "from keras.models import Sequential\n",
        "from keras.layers import Dense, Dropout, Activation, Flatten, Add\n",
        "from keras.layers import Convolution2D, MaxPooling2D\n",
        "from keras.utils import np_utils\n",
        "\n",
        "from keras.datasets import mnist"
      ],
      "execution_count": 0,
      "outputs": []
    },
    {
      "cell_type": "markdown",
      "metadata": {
        "id": "zByEi95J86RD",
        "colab_type": "text"
      },
      "source": [
        "### Load pre-shuffled MNIST data into train and test sets"
      ]
    },
    {
      "cell_type": "code",
      "metadata": {
        "id": "7eRM0QWN83PV",
        "colab_type": "code",
        "outputId": "7ba9509e-428a-41da-dcd9-100b5c1cab35",
        "colab": {
          "base_uri": "https://localhost:8080/",
          "height": 52
        }
      },
      "source": [
        "(X_train, y_train), (X_test, y_test) = mnist.load_data()"
      ],
      "execution_count": 3,
      "outputs": [
        {
          "output_type": "stream",
          "text": [
            "Downloading data from https://s3.amazonaws.com/img-datasets/mnist.npz\n",
            "11493376/11490434 [==============================] - 2s 0us/step\n"
          ],
          "name": "stdout"
        }
      ]
    },
    {
      "cell_type": "code",
      "metadata": {
        "id": "4a4Be72j8-ZC",
        "colab_type": "code",
        "outputId": "0aba56f1-aad9-4d14-f068-6c3504a1c8fd",
        "colab": {
          "base_uri": "https://localhost:8080/",
          "height": 300
        }
      },
      "source": [
        "print (X_train.shape)\n",
        "from matplotlib import pyplot as plt\n",
        "%matplotlib inline\n",
        "plt.imshow(X_train[4], cmap = plt.cm.binary)"
      ],
      "execution_count": 7,
      "outputs": [
        {
          "output_type": "stream",
          "text": [
            "(60000, 28, 28)\n"
          ],
          "name": "stdout"
        },
        {
          "output_type": "execute_result",
          "data": {
            "text/plain": [
              "<matplotlib.image.AxesImage at 0x7fc18822b6a0>"
            ]
          },
          "metadata": {
            "tags": []
          },
          "execution_count": 7
        },
        {
          "output_type": "display_data",
          "data": {
            "image/png": "[encoded data removed]",
            "text/plain": [
              "<Figure size 432x288 with 1 Axes>"
            ]
          },
          "metadata": {
            "tags": []
          }
        }
      ]
    },
    {
      "cell_type": "code",
      "metadata": {
        "id": "dkmprriw9AnZ",
        "colab_type": "code",
        "colab": {}
      },
      "source": [
        "X_train = X_train.reshape(X_train.shape[0], 28, 28,1)\n",
        "X_test = X_test.reshape(X_test.shape[0], 28, 28,1)"
      ],
      "execution_count": 0,
      "outputs": []
    },
    {
      "cell_type": "code",
      "metadata": {
        "id": "X2m4YS4E9CRh",
        "colab_type": "code",
        "colab": {}
      },
      "source": [
        "X_train = X_train.astype('float32')\n",
        "X_test = X_test.astype('float32')\n",
        "X_train /= 255\n",
        "X_test /= 255"
      ],
      "execution_count": 0,
      "outputs": []
    },
    {
      "cell_type": "code",
      "metadata": {
        "id": "0Mn0vAYD9DvB",
        "colab_type": "code",
        "outputId": "efde8288-6807-455b-f738-93c97616bc19",
        "colab": {
          "base_uri": "https://localhost:8080/",
          "height": 34
        }
      },
      "source": [
        "y_train[:10]"
      ],
      "execution_count": 0,
      "outputs": [
        {
          "output_type": "execute_result",
          "data": {
            "text/plain": [
              "array([5, 0, 4, 1, 9, 2, 1, 3, 1, 4], dtype=uint8)"
            ]
          },
          "metadata": {
            "tags": []
          },
          "execution_count": 7
        }
      ]
    },
    {
      "cell_type": "code",
      "metadata": {
        "id": "ZG8JiXR39FHC",
        "colab_type": "code",
        "colab": {}
      },
      "source": [
        "# Convert 1-dimensional class arrays to 10-dimensional class matrices\n",
        "Y_train = np_utils.to_categorical(y_train, 10)\n",
        "Y_test = np_utils.to_categorical(y_test, 10)"
      ],
      "execution_count": 0,
      "outputs": []
    },
    {
      "cell_type": "code",
      "metadata": {
        "id": "fYlFRvKS9HMB",
        "colab_type": "code",
        "outputId": "29999b31-9ca1-4c64-c52f-385979885ed8",
        "colab": {
          "base_uri": "https://localhost:8080/",
          "height": 191
        }
      },
      "source": [
        "Y_train[:10]\n"
      ],
      "execution_count": 0,
      "outputs": [
        {
          "output_type": "execute_result",
          "data": {
            "text/plain": [
              "array([[0., 0., 0., 0., 0., 1., 0., 0., 0., 0.],\n",
              "       [1., 0., 0., 0., 0., 0., 0., 0., 0., 0.],\n",
              "       [0., 0., 0., 0., 1., 0., 0., 0., 0., 0.],\n",
              "       [0., 1., 0., 0., 0., 0., 0., 0., 0., 0.],\n",
              "       [0., 0., 0., 0., 0., 0., 0., 0., 0., 1.],\n",
              "       [0., 0., 1., 0., 0., 0., 0., 0., 0., 0.],\n",
              "       [0., 1., 0., 0., 0., 0., 0., 0., 0., 0.],\n",
              "       [0., 0., 0., 1., 0., 0., 0., 0., 0., 0.],\n",
              "       [0., 1., 0., 0., 0., 0., 0., 0., 0., 0.],\n",
              "       [0., 0., 0., 0., 1., 0., 0., 0., 0., 0.]], dtype=float32)"
            ]
          },
          "metadata": {
            "tags": []
          },
          "execution_count": 9
        }
      ]
    },
    {
      "cell_type": "code",
      "metadata": {
        "id": "DZnypgO8l_zT",
        "colab_type": "code",
        "outputId": "3b9de4f6-82f3-42a8-df91-66631507eab1",
        "colab": {
          "base_uri": "https://localhost:8080/",
          "height": 191
        }
      },
      "source": [
        "from keras.layers import Activation\n",
        "model = Sequential()\n",
        "\n",
        "model.add(Convolution2D(32,3,3, activation = 'relu', input_shape = (28,28,1)))\n",
        "model.add(Convolution2D(64,3,3, activation='relu'))\n",
        "model.add(Convolution2D(128,3,3, activation='relu'))\n",
        "model.add(Convolution2D(256,3,3, activation='relu'))\n",
        "model.add(Convolution2D(512,3,3, activation='relu'))\n",
        "model.add(Convolution2D(10, 1, activation='relu'))\n",
        "model.add(Convolution2D(10, 16))\n",
        "model.add( MaxPooling2D(pool_size=(2,2)))\n",
        "\n",
        "\n",
        "model.add(Flatten())\n",
        "model.add(Activation('softmax'))"
      ],
      "execution_count": 0,
      "outputs": [
        {
          "output_type": "stream",
          "text": [
            "/usr/local/lib/python3.6/dist-packages/ipykernel_launcher.py:4: UserWarning: Update your `Conv2D` call to the Keras 2 API: `Conv2D(32, (3, 3), activation=\"relu\", input_shape=(28, 28, 1...)`\n",
            "  after removing the cwd from sys.path.\n",
            "/usr/local/lib/python3.6/dist-packages/ipykernel_launcher.py:5: UserWarning: Update your `Conv2D` call to the Keras 2 API: `Conv2D(64, (3, 3), activation=\"relu\")`\n",
            "  \"\"\"\n",
            "/usr/local/lib/python3.6/dist-packages/ipykernel_launcher.py:6: UserWarning: Update your `Conv2D` call to the Keras 2 API: `Conv2D(128, (3, 3), activation=\"relu\")`\n",
            "  \n",
            "/usr/local/lib/python3.6/dist-packages/ipykernel_launcher.py:7: UserWarning: Update your `Conv2D` call to the Keras 2 API: `Conv2D(256, (3, 3), activation=\"relu\")`\n",
            "  import sys\n",
            "/usr/local/lib/python3.6/dist-packages/ipykernel_launcher.py:8: UserWarning: Update your `Conv2D` call to the Keras 2 API: `Conv2D(512, (3, 3), activation=\"relu\")`\n",
            "  \n"
          ],
          "name": "stderr"
        }
      ]
    },
    {
      "cell_type": "code",
      "metadata": {
        "id": "osKqT73Q9JJB",
        "colab_type": "code",
        "colab": {}
      },
      "source": [
        "# from keras.layers import Activation\n",
        "# model = Sequential()\n",
        "\n",
        " \n",
        "# model.add(Convolution2D(32, 3, 3, activation='relu', input_shape=(28,28,1)))\n",
        "# model.add(Convolution2D(64,10, 1, activation='relu'))\n",
        "# model.add(Convolution2D(10, 26))\n",
        "# model.add(Flatten())\n",
        "# model.add(Activation('softmax'))"
      ],
      "execution_count": 0,
      "outputs": []
    },
    {
      "cell_type": "code",
      "metadata": {
        "id": "TzdAYg1k9K7Z",
        "colab_type": "code",
        "outputId": "1ba24a61-a88b-4f85-987e-983c02246ef4",
        "colab": {
          "base_uri": "https://localhost:8080/",
          "height": 503
        }
      },
      "source": [
        "model.summary()"
      ],
      "execution_count": 0,
      "outputs": [
        {
          "output_type": "stream",
          "text": [
            "Model: \"sequential_3\"\n",
            "_________________________________________________________________\n",
            "Layer (type)                 Output Shape              Param #   \n",
            "=================================================================\n",
            "conv2d_15 (Conv2D)           (None, 26, 26, 32)        320       \n",
            "_________________________________________________________________\n",
            "conv2d_16 (Conv2D)           (None, 24, 24, 64)        18496     \n",
            "_________________________________________________________________\n",
            "conv2d_17 (Conv2D)           (None, 22, 22, 128)       73856     \n",
            "_________________________________________________________________\n",
            "conv2d_18 (Conv2D)           (None, 20, 20, 256)       295168    \n",
            "_________________________________________________________________\n",
            "conv2d_19 (Conv2D)           (None, 18, 18, 512)       1180160   \n",
            "_________________________________________________________________\n",
            "conv2d_20 (Conv2D)           (None, 18, 18, 10)        5130      \n",
            "_________________________________________________________________\n",
            "conv2d_21 (Conv2D)           (None, 3, 3, 10)          25610     \n",
            "_________________________________________________________________\n",
            "max_pooling2d_2 (MaxPooling2 (None, 1, 1, 10)          0         \n",
            "_________________________________________________________________\n",
            "flatten_2 (Flatten)          (None, 10)                0         \n",
            "_________________________________________________________________\n",
            "activation_2 (Activation)    (None, 10)                0         \n",
            "=================================================================\n",
            "Total params: 1,598,740\n",
            "Trainable params: 1,598,740\n",
            "Non-trainable params: 0\n",
            "_________________________________________________________________\n"
          ],
          "name": "stdout"
        }
      ]
    },
    {
      "cell_type": "code",
      "metadata": {
        "id": "Zp6SuGrL9M3h",
        "colab_type": "code",
        "colab": {}
      },
      "source": [
        "model.compile(loss='categorical_crossentropy',\n",
        "             optimizer='adam',\n",
        "             metrics=['accuracy'])"
      ],
      "execution_count": 0,
      "outputs": []
    },
    {
      "cell_type": "code",
      "metadata": {
        "id": "4xWoKhPY9Of5",
        "colab_type": "code",
        "outputId": "e1b95e6a-de90-4d56-8bb6-bde114521dea",
        "colab": {
          "base_uri": "https://localhost:8080/",
          "height": 521
        }
      },
      "source": [
        "model.fit(X_train, Y_train, batch_size=30, nb_epoch=13, verbose=1)"
      ],
      "execution_count": 0,
      "outputs": [
        {
          "output_type": "stream",
          "text": [
            "/usr/local/lib/python3.6/dist-packages/ipykernel_launcher.py:1: UserWarning: The `nb_epoch` argument in `fit` has been renamed `epochs`.\n",
            "  \"\"\"Entry point for launching an IPython kernel.\n"
          ],
          "name": "stderr"
        },
        {
          "output_type": "stream",
          "text": [
            "Epoch 1/13\n",
            "60000/60000 [==============================] - 88s 1ms/step - loss: 0.1447 - acc: 0.9574\n",
            "Epoch 2/13\n",
            "60000/60000 [==============================] - 87s 1ms/step - loss: 0.0601 - acc: 0.9825\n",
            "Epoch 3/13\n",
            "60000/60000 [==============================] - 87s 1ms/step - loss: 0.0460 - acc: 0.9864\n",
            "Epoch 4/13\n",
            "60000/60000 [==============================] - 88s 1ms/step - loss: 0.0358 - acc: 0.9893\n",
            "Epoch 5/13\n",
            "60000/60000 [==============================] - 87s 1ms/step - loss: 0.0297 - acc: 0.9909\n",
            "Epoch 6/13\n",
            "60000/60000 [==============================] - 88s 1ms/step - loss: 0.0247 - acc: 0.9921\n",
            "Epoch 7/13\n",
            "60000/60000 [==============================] - 87s 1ms/step - loss: 0.0205 - acc: 0.9938\n",
            "Epoch 8/13\n",
            "60000/60000 [==============================] - 87s 1ms/step - loss: 0.0174 - acc: 0.9944\n",
            "Epoch 9/13\n",
            "60000/60000 [==============================] - 87s 1ms/step - loss: 0.0158 - acc: 0.9946\n",
            "Epoch 10/13\n",
            "60000/60000 [==============================] - 87s 1ms/step - loss: 0.0130 - acc: 0.9956\n",
            "Epoch 11/13\n",
            "60000/60000 [==============================] - 87s 1ms/step - loss: 0.0127 - acc: 0.9959\n",
            "Epoch 12/13\n",
            "60000/60000 [==============================] - 87s 1ms/step - loss: 0.0115 - acc: 0.9964\n",
            "Epoch 13/13\n",
            "60000/60000 [==============================] - 87s 1ms/step - loss: 0.0116 - acc: 0.9962\n"
          ],
          "name": "stdout"
        },
        {
          "output_type": "execute_result",
          "data": {
            "text/plain": [
              "<keras.callbacks.History at 0x7f011aa04da0>"
            ]
          },
          "metadata": {
            "tags": []
          },
          "execution_count": 21
        }
      ]
    },
    {
      "cell_type": "code",
      "metadata": {
        "id": "AtsH-lLk-eLb",
        "colab_type": "code",
        "colab": {}
      },
      "source": [
        "score = model.evaluate(X_test, Y_test, verbose=0)"
      ],
      "execution_count": 0,
      "outputs": []
    },
    {
      "cell_type": "code",
      "metadata": {
        "id": "mkX8JMv79q9r",
        "colab_type": "code",
        "outputId": "f663b9bb-bec5-4e74-ca55-132fdcebdaf6",
        "colab": {
          "base_uri": "https://localhost:8080/",
          "height": 34
        }
      },
      "source": [
        "print(score)"
      ],
      "execution_count": 0,
      "outputs": [
        {
          "output_type": "stream",
          "text": [
            "[0.03260548618828516, 0.9917]\n"
          ],
          "name": "stdout"
        }
      ]
    },
    {
      "cell_type": "code",
      "metadata": {
        "id": "OCWoJkwE9suh",
        "colab_type": "code",
        "colab": {}
      },
      "source": [
        "y_pred = model.predict(X_test)"
      ],
      "execution_count": 0,
      "outputs": []
    },
    {
      "cell_type": "code",
      "metadata": {
        "id": "Ym7iCFBm9uBs",
        "colab_type": "code",
        "outputId": "38529355-cd88-43ba-820c-9e31e35393a2",
        "colab": {
          "base_uri": "https://localhost:8080/",
          "height": 1000
        }
      },
      "source": [
        "print(y_pred[:9])\n",
        "print(y_test[:9])"
      ],
      "execution_count": 0,
      "outputs": [
        {
          "output_type": "stream",
          "text": [
            "[[5.94529412e-27 4.07859626e-36 1.33525837e-16 1.55089299e-12\n",
            "  6.27177526e-34 1.47336664e-27 0.00000000e+00 9.99956131e-01\n",
            "  9.61967848e-23 1.24412658e-18 1.00589393e-30 6.34918478e-36\n",
            "  2.43844403e-21 1.42649216e-16 1.67186723e-37 4.39562308e-35\n",
            "  0.00000000e+00 4.16931944e-05 3.84551335e-29 8.53608932e-25\n",
            "  5.91412560e-34 4.45765178e-32 1.98276959e-25 8.96591486e-22\n",
            "  0.00000000e+00 0.00000000e+00 0.00000000e+00 9.96637911e-11\n",
            "  1.85498195e-32 5.81268817e-28 1.37478160e-33 1.79580923e-36\n",
            "  1.14064678e-19 1.08949334e-18 0.00000000e+00 0.00000000e+00\n",
            "  0.00000000e+00 2.18585274e-06 2.80483165e-30 1.07494509e-26\n",
            "  6.74403697e-38 1.21820952e-37 4.36536643e-25 3.14800308e-23\n",
            "  0.00000000e+00 0.00000000e+00 0.00000000e+00 9.93157206e-12\n",
            "  1.46913369e-36 2.39693031e-31 0.00000000e+00 9.27543964e-36\n",
            "  1.50781010e-29 6.41340565e-27 0.00000000e+00 0.00000000e+00\n",
            "  0.00000000e+00 2.12815142e-17 0.00000000e+00 2.92984631e-36\n",
            "  0.00000000e+00 4.62207396e-38 4.77538172e-24 4.47173323e-26\n",
            "  0.00000000e+00 0.00000000e+00 0.00000000e+00 2.33218311e-13\n",
            "  2.78762810e-36 2.97339768e-36 0.00000000e+00 3.06004292e-38\n",
            "  4.51764071e-30 6.12318430e-30 0.00000000e+00 0.00000000e+00\n",
            "  0.00000000e+00 9.88116252e-19 0.00000000e+00 0.00000000e+00\n",
            "  0.00000000e+00 1.57686524e-37 1.20185353e-33 7.69026266e-34\n",
            "  0.00000000e+00 0.00000000e+00 0.00000000e+00 2.55982465e-24\n",
            "  0.00000000e+00 0.00000000e+00]\n",
            " [2.07185738e-25 8.36562408e-21 9.99999881e-01 8.88299990e-22\n",
            "  2.69818647e-31 1.39848763e-31 1.86014331e-14 2.86794667e-30\n",
            "  2.81212227e-22 3.02151243e-32 1.99908772e-24 2.70980359e-29\n",
            "  8.91795011e-08 1.18261824e-25 2.05262048e-35 5.08202434e-37\n",
            "  1.97715423e-17 6.88820691e-35 1.38133762e-28 1.44775459e-38\n",
            "  3.31659765e-24 5.66775162e-34 8.33996771e-15 1.23946123e-28\n",
            "  0.00000000e+00 0.00000000e+00 1.60677783e-24 0.00000000e+00\n",
            "  6.24792467e-36 0.00000000e+00 8.72645177e-30 3.10708546e-24\n",
            "  1.06823395e-09 5.96024966e-26 2.92382605e-26 2.97366981e-32\n",
            "  2.69677401e-14 2.93254290e-31 9.51886011e-33 4.05188433e-36\n",
            "  1.31382908e-29 2.36213446e-30 3.21946762e-15 5.16545837e-31\n",
            "  3.69303951e-30 0.00000000e+00 1.16100499e-19 1.45230906e-35\n",
            "  1.26007448e-37 0.00000000e+00 6.19896965e-29 3.15349899e-32\n",
            "  1.86060869e-21 8.21606338e-36 3.25244278e-35 0.00000000e+00\n",
            "  9.90998500e-26 0.00000000e+00 0.00000000e+00 0.00000000e+00\n",
            "  9.31485878e-27 1.15457863e-27 1.40006548e-19 1.79783809e-32\n",
            "  1.61353422e-24 2.37246053e-34 2.35102978e-17 2.44353234e-36\n",
            "  2.82591924e-37 8.39799392e-33 2.26563125e-27 5.64554966e-33\n",
            "  3.10336278e-26 0.00000000e+00 9.56314736e-27 0.00000000e+00\n",
            "  8.46368184e-22 0.00000000e+00 0.00000000e+00 7.69365093e-34\n",
            "  1.18414281e-27 1.29757637e-37 2.84808269e-30 0.00000000e+00\n",
            "  1.28985884e-28 0.00000000e+00 7.57566662e-28 0.00000000e+00\n",
            "  0.00000000e+00 6.12764542e-34]\n",
            " [2.14050105e-13 9.99974370e-01 3.48930698e-08 3.44088907e-12\n",
            "  3.25177663e-09 3.39733298e-12 8.08234339e-13 9.33728650e-11\n",
            "  2.65453028e-08 1.25835172e-14 5.61723573e-13 2.43861978e-05\n",
            "  2.86146634e-10 1.95689797e-16 3.62816360e-10 3.64333997e-12\n",
            "  2.39965617e-11 1.64500490e-14 1.54323099e-09 2.52463146e-15\n",
            "  4.86684434e-12 8.88883633e-08 2.23406688e-13 1.08399788e-21\n",
            "  3.42617101e-10 1.02785694e-12 1.81905616e-10 7.82854330e-19\n",
            "  9.92947478e-13 5.49519274e-15 5.86826226e-16 1.12866599e-06\n",
            "  9.19167867e-12 2.47704769e-15 5.73650480e-15 1.93525737e-13\n",
            "  1.12721357e-14 6.52641574e-18 1.48803916e-13 8.95799463e-18\n",
            "  6.32106278e-17 1.98192088e-10 3.30925710e-14 2.55185348e-19\n",
            "  5.98938759e-14 9.81808933e-15 9.18587363e-13 1.11030184e-20\n",
            "  2.56799108e-15 4.72472693e-19 2.19738121e-16 5.68077616e-12\n",
            "  4.65290120e-17 2.65424025e-24 2.31272114e-13 2.98686412e-15\n",
            "  1.59128385e-12 1.95651026e-23 4.75040975e-18 3.22567300e-19\n",
            "  1.29922058e-17 2.13324624e-13 5.31739459e-15 1.59817329e-16\n",
            "  1.56189381e-19 1.66286845e-11 7.06368568e-18 2.38748538e-22\n",
            "  3.56260357e-19 1.45312628e-19 2.43636017e-20 5.00844551e-14\n",
            "  5.02624471e-18 2.24189598e-20 4.71990349e-17 2.29627786e-13\n",
            "  2.09119637e-16 4.64392493e-26 3.38136101e-22 3.78710547e-21\n",
            "  2.64600497e-21 3.07181856e-15 5.70643664e-20 1.62843235e-24\n",
            "  1.98760177e-15 4.56146825e-14 3.11245221e-16 3.06224248e-26\n",
            "  3.26822115e-25 1.35405235e-22]\n",
            " [9.99999881e-01 1.65611632e-36 9.95059648e-18 7.39121084e-19\n",
            "  1.60803898e-19 5.18729591e-13 8.34386726e-11 2.26897891e-19\n",
            "  5.02601127e-17 1.81877999e-10 1.19838759e-07 0.00000000e+00\n",
            "  1.61279585e-24 1.40246816e-23 1.06918992e-24 1.34782372e-17\n",
            "  2.20641433e-18 4.99159774e-25 4.20843964e-22 2.02023909e-16\n",
            "  3.24010325e-16 0.00000000e+00 2.21013485e-28 9.43396946e-28\n",
            "  1.59915380e-30 3.79516298e-25 1.23487584e-25 2.22649102e-29\n",
            "  6.91624602e-28 8.47072327e-22 1.84559230e-08 0.00000000e+00\n",
            "  1.67366150e-24 4.09348826e-29 1.36268290e-23 4.58102923e-21\n",
            "  2.87566222e-13 8.17851466e-27 4.51282114e-17 7.18116820e-15\n",
            "  1.65496025e-14 0.00000000e+00 3.09546877e-31 5.73111154e-32\n",
            "  7.44334073e-31 2.84916260e-27 9.16385319e-23 5.76544485e-34\n",
            "  9.16214105e-23 7.10824412e-20 5.72758112e-21 0.00000000e+00\n",
            "  1.00111553e-35 1.63608169e-33 0.00000000e+00 6.27695329e-35\n",
            "  6.81204560e-32 0.00000000e+00 2.45454505e-30 8.23273237e-26\n",
            "  4.36256256e-13 0.00000000e+00 1.19626287e-31 1.22789936e-34\n",
            "  1.41828584e-30 3.75102807e-28 7.13537689e-22 1.04640450e-31\n",
            "  2.06705286e-22 9.21996594e-21 4.92507266e-19 0.00000000e+00\n",
            "  2.88734585e-36 3.43969268e-37 0.00000000e+00 9.24955710e-36\n",
            "  1.94442435e-31 1.28169049e-38 2.26930616e-28 1.25142656e-24\n",
            "  2.42965831e-26 0.00000000e+00 0.00000000e+00 0.00000000e+00\n",
            "  0.00000000e+00 0.00000000e+00 0.00000000e+00 0.00000000e+00\n",
            "  1.45888197e-37 3.13499336e-31]\n",
            " [8.14931433e-22 4.64660567e-27 4.83890336e-25 9.55538458e-24\n",
            "  9.99998808e-01 7.54247064e-20 5.93496914e-26 7.81426771e-18\n",
            "  3.79245188e-18 4.37906124e-07 2.71011354e-27 3.36960891e-30\n",
            "  8.76654647e-30 3.61258882e-26 4.65211301e-08 6.82237880e-27\n",
            "  4.47995921e-29 1.47233282e-21 2.26921653e-21 6.39027321e-15\n",
            "  1.67182142e-32 3.04055414e-31 4.27301931e-34 1.07769868e-30\n",
            "  1.18856937e-13 1.59522154e-31 1.44103529e-32 5.19278969e-26\n",
            "  1.41746040e-25 1.41537307e-20 1.40513232e-32 2.08485609e-34\n",
            "  2.58408152e-30 5.61690535e-27 7.26644998e-07 3.20764728e-22\n",
            "  3.55125946e-30 2.23340805e-26 5.05993005e-21 1.20603617e-14\n",
            "  1.01120018e-37 2.79699281e-36 1.25698384e-33 8.71888422e-31\n",
            "  2.97327436e-14 1.46282709e-28 6.66413031e-36 6.76790816e-30\n",
            "  2.06758511e-24 8.20887143e-23 0.00000000e+00 1.00979709e-37\n",
            "  8.67499890e-37 5.04020639e-35 1.24711977e-20 1.61618039e-33\n",
            "  0.00000000e+00 3.63244560e-34 6.19634256e-28 1.70235524e-28\n",
            "  0.00000000e+00 0.00000000e+00 6.06991017e-37 6.50545732e-30\n",
            "  9.93418780e-13 3.99552968e-23 1.11353616e-34 2.46888642e-34\n",
            "  1.18579722e-25 7.28058859e-25 0.00000000e+00 0.00000000e+00\n",
            "  0.00000000e+00 2.42354683e-33 5.74959754e-21 3.06674341e-29\n",
            "  0.00000000e+00 2.71756221e-38 6.53089004e-31 6.90586298e-32\n",
            "  0.00000000e+00 0.00000000e+00 0.00000000e+00 8.78060523e-37\n",
            "  2.16229047e-27 1.41327410e-35 0.00000000e+00 0.00000000e+00\n",
            "  3.65077027e-33 2.30878720e-37]\n",
            " [2.19132016e-16 9.99981642e-01 2.94092112e-11 6.40633914e-17\n",
            "  1.13720600e-09 1.63704615e-16 5.71631831e-15 7.39015182e-10\n",
            "  2.19275376e-09 1.28548198e-15 4.25637918e-14 1.70884105e-05\n",
            "  8.30429543e-14 1.18121101e-20 3.19605627e-11 1.56445371e-16\n",
            "  4.57006843e-15 4.44454484e-14 1.81640258e-11 2.05134158e-17\n",
            "  4.51710804e-12 6.99901692e-10 1.43742698e-15 4.67233834e-25\n",
            "  2.82948334e-13 1.72451921e-17 1.19166097e-13 1.20917714e-19\n",
            "  1.49519594e-14 7.26952792e-18 1.37000606e-17 1.33367291e-06\n",
            "  3.70355432e-14 1.15727903e-18 2.08394161e-15 1.24682911e-17\n",
            "  8.85755535e-16 2.04971468e-17 2.19990001e-13 1.25087189e-20\n",
            "  3.29830461e-17 6.54024335e-11 2.84056271e-17 1.87255636e-23\n",
            "  1.60346090e-16 5.42238398e-18 7.71774388e-16 3.13635182e-21\n",
            "  2.74710700e-15 1.04435682e-21 1.44944079e-16 5.37896415e-15\n",
            "  1.59412710e-19 8.26608410e-29 6.19915488e-17 1.64837955e-19\n",
            "  7.56538488e-15 4.06226388e-25 1.96252447e-18 5.73934956e-22\n",
            "  6.98009978e-21 1.08756038e-12 7.81287753e-19 3.87926503e-21\n",
            "  6.65296722e-21 2.87187513e-18 4.78616877e-18 2.73955812e-25\n",
            "  1.62142600e-18 1.28036671e-24 1.29041559e-21 5.09419180e-17\n",
            "  7.55016697e-21 8.68433428e-26 2.39127717e-21 2.60325578e-19\n",
            "  4.07203686e-18 3.04059771e-29 4.96970597e-21 1.03828561e-24\n",
            "  1.88397125e-22 2.48584499e-19 1.02604101e-23 6.93253859e-31\n",
            "  2.23829775e-20 1.47069643e-21 2.60858520e-18 1.13444621e-31\n",
            "  2.94103785e-23 1.83761832e-25]\n",
            " [0.00000000e+00 8.15673432e-20 8.46383538e-24 2.32026256e-19\n",
            "  1.00000000e+00 3.30921483e-18 0.00000000e+00 3.84080903e-17\n",
            "  1.41176012e-11 1.75857296e-15 0.00000000e+00 4.68724647e-23\n",
            "  6.13030423e-29 1.12362182e-24 1.73386283e-08 2.81783265e-24\n",
            "  0.00000000e+00 8.66545605e-21 7.65816786e-14 3.78655254e-21\n",
            "  0.00000000e+00 6.21780512e-27 6.23300810e-33 4.01665517e-30\n",
            "  5.71244847e-14 2.81485871e-30 0.00000000e+00 1.49150799e-23\n",
            "  2.45336449e-16 1.46182541e-27 0.00000000e+00 1.73119958e-19\n",
            "  5.20924890e-24 7.12504218e-22 2.74326070e-12 8.35653478e-21\n",
            "  0.00000000e+00 1.86294362e-23 4.35438674e-15 1.51715800e-24\n",
            "  0.00000000e+00 6.39266569e-24 1.30107678e-28 2.75511655e-27\n",
            "  7.68783146e-22 2.57826075e-26 0.00000000e+00 2.94797128e-27\n",
            "  1.95817176e-17 1.00074799e-30 0.00000000e+00 1.68126017e-28\n",
            "  1.54427411e-32 1.53823686e-31 3.82189165e-27 1.63591574e-30\n",
            "  0.00000000e+00 1.65026194e-31 7.04854365e-20 4.31392843e-38\n",
            "  0.00000000e+00 1.30518185e-22 4.05546181e-26 8.77043090e-24\n",
            "  1.87083245e-25 7.28551503e-25 0.00000000e+00 4.38410893e-28\n",
            "  3.01197645e-22 5.32324564e-33 0.00000000e+00 6.51324278e-28\n",
            "  4.52004056e-32 1.85875760e-28 4.33869225e-34 9.13610836e-30\n",
            "  0.00000000e+00 1.36227067e-33 8.57337818e-24 3.24999481e-38\n",
            "  0.00000000e+00 1.04216254e-30 1.64509215e-35 8.70652225e-33\n",
            "  0.00000000e+00 1.26972749e-33 0.00000000e+00 8.03945836e-38\n",
            "  1.91628581e-26 0.00000000e+00]\n",
            " [7.80090768e-35 3.86490075e-26 6.09383660e-25 7.44447906e-11\n",
            "  4.10657654e-11 9.41047302e-14 1.63094956e-33 2.84556242e-26\n",
            "  1.16345947e-10 9.99772608e-01 0.00000000e+00 5.36271855e-31\n",
            "  8.11512441e-28 5.49388754e-18 5.06826068e-17 2.91317709e-18\n",
            "  0.00000000e+00 4.28963917e-27 2.74736712e-14 1.50540686e-07\n",
            "  0.00000000e+00 1.18386744e-30 2.48496313e-28 2.92541789e-24\n",
            "  5.95377231e-22 3.25986408e-27 0.00000000e+00 1.76821024e-28\n",
            "  6.59098546e-20 1.74815308e-17 0.00000000e+00 1.82880645e-27\n",
            "  4.29821597e-30 4.63043774e-15 4.48442959e-16 6.42954669e-19\n",
            "  4.33682234e-37 2.14731526e-31 1.95847852e-12 2.27294368e-04\n",
            "  0.00000000e+00 1.25526471e-29 2.38129556e-34 1.23551226e-20\n",
            "  4.79660388e-20 1.70706753e-21 0.00000000e+00 2.65940962e-32\n",
            "  1.19749225e-17 5.30015008e-12 0.00000000e+00 1.22713041e-31\n",
            "  1.93621575e-34 5.09058332e-24 3.31976557e-25 1.76156627e-27\n",
            "  0.00000000e+00 1.09183006e-35 1.45867841e-22 1.12686988e-22\n",
            "  0.00000000e+00 3.97890168e-30 3.24597072e-32 1.50441096e-18\n",
            "  1.68829421e-20 1.58304757e-23 0.00000000e+00 1.28974441e-33\n",
            "  3.94914077e-16 3.38566997e-09 0.00000000e+00 3.12333463e-32\n",
            "  3.46751479e-34 3.71563569e-25 4.38054902e-23 1.20893388e-26\n",
            "  0.00000000e+00 2.74994483e-34 1.38114969e-21 1.41299985e-17\n",
            "  0.00000000e+00 1.14443880e-33 2.68219378e-37 1.55932045e-29\n",
            "  7.21842576e-29 1.79721181e-30 0.00000000e+00 7.59074017e-38\n",
            "  5.97849292e-28 6.14154805e-29]\n",
            " [1.38825706e-21 1.20071431e-33 2.76483983e-30 3.32809309e-23\n",
            "  3.42877604e-24 9.99999642e-01 4.16612925e-13 7.31559505e-31\n",
            "  3.57569064e-07 1.24038044e-10 7.01160856e-29 0.00000000e+00\n",
            "  1.07924432e-34 5.19271450e-26 1.27363285e-32 2.26969235e-08\n",
            "  6.70713842e-20 9.96346532e-34 4.80453893e-14 1.67768947e-15\n",
            "  2.14963464e-35 0.00000000e+00 7.67784237e-35 1.90940005e-30\n",
            "  0.00000000e+00 7.27419562e-14 5.64773852e-28 5.42646763e-36\n",
            "  5.71731972e-21 7.01864769e-21 7.32183403e-35 2.97016812e-38\n",
            "  9.79982664e-35 2.43057424e-27 6.75352387e-30 1.61276481e-09\n",
            "  1.00379405e-24 1.72371636e-38 3.61262384e-16 2.20862620e-20\n",
            "  0.00000000e+00 0.00000000e+00 0.00000000e+00 1.94734839e-31\n",
            "  0.00000000e+00 6.46824216e-16 1.94212366e-33 0.00000000e+00\n",
            "  3.73621539e-22 3.20966499e-25 0.00000000e+00 0.00000000e+00\n",
            "  0.00000000e+00 3.25748016e-37 0.00000000e+00 5.34937339e-21\n",
            "  0.00000000e+00 0.00000000e+00 3.60384615e-29 1.59864809e-29\n",
            "  0.00000000e+00 0.00000000e+00 0.00000000e+00 2.43413236e-31\n",
            "  4.59714862e-37 2.83806992e-16 1.60853545e-34 0.00000000e+00\n",
            "  5.39325170e-25 3.15218896e-31 0.00000000e+00 0.00000000e+00\n",
            "  0.00000000e+00 7.46797860e-36 0.00000000e+00 1.09832995e-24\n",
            "  0.00000000e+00 0.00000000e+00 5.09162463e-31 2.11828319e-38\n",
            "  0.00000000e+00 0.00000000e+00 0.00000000e+00 0.00000000e+00\n",
            "  0.00000000e+00 8.21460937e-31 0.00000000e+00 0.00000000e+00\n",
            "  2.42031822e-38 0.00000000e+00]]\n",
            "[7 2 1 0 4 1 4 9 5]\n"
          ],
          "name": "stdout"
        }
      ]
    },
    {
      "cell_type": "code",
      "metadata": {
        "id": "CT--y98_dr2T",
        "colab_type": "code",
        "colab": {}
      },
      "source": [
        "layer_dict = dict([(layer.name, layer) for layer in model.layers])"
      ],
      "execution_count": 0,
      "outputs": []
    },
    {
      "cell_type": "code",
      "metadata": {
        "id": "2GY4Upv4dsUR",
        "colab_type": "code",
        "outputId": "e5305ad7-8a45-4d57-ed1e-7adea936a91b",
        "colab": {
          "base_uri": "https://localhost:8080/",
          "height": 323
        }
      },
      "source": [
        "import numpy as np\n",
        "from matplotlib import pyplot as plt\n",
        "from keras import backend as K\n",
        "%matplotlib inline\n",
        "# util function to convert a tensor into a valid image\n",
        "def deprocess_image(x):\n",
        "    # normalize tensor: center on 0., ensure std is 0.1\n",
        "    x -= x.mean()\n",
        "    x /= (x.std() + 1e-5)\n",
        "    x *= 0.1\n",
        "\n",
        "    # clip to [0, 1]\n",
        "    x += 0.5\n",
        "    x = np.clip(x, 0, 1)\n",
        "\n",
        "    # convert to RGB array\n",
        "    x *= 255\n",
        "    #x = x.transpose((1, 2, 0))\n",
        "    x = np.clip(x, 0, 255).astype('uint8')\n",
        "    return x\n",
        "\n",
        "def vis_img_in_filter(img = np.array(X_train[2]).reshape((1, 28, 28, 1)).astype(np.float64), \n",
        "                      layer_name = 'conv2d_14'):\n",
        "    layer_output = layer_dict[layer_name].output\n",
        "    img_ascs = list()\n",
        "    for filter_index in range(layer_output.shape[3]):\n",
        "        # build a loss function that maximizes the activation\n",
        "        # of the nth filter of the layer considered\n",
        "        loss = K.mean(layer_output[:, :, :, filter_index])\n",
        "\n",
        "        # compute the gradient of the input picture wrt this loss\n",
        "        grads = K.gradients(loss, model.input)[0]\n",
        "\n",
        "        # normalization trick: we normalize the gradient\n",
        "        grads /= (K.sqrt(K.mean(K.square(grads))) + 1e-5)\n",
        "\n",
        "        # this function returns the loss and grads given the input picture\n",
        "        iterate = K.function([model.input], [loss, grads])\n",
        "\n",
        "        # step size for gradient ascent\n",
        "        step = 5.\n",
        "\n",
        "        img_asc = np.array(img)\n",
        "        # run gradient ascent for 20 steps\n",
        "        for i in range(20):\n",
        "            loss_value, grads_value = iterate([img_asc])\n",
        "            img_asc += grads_value * step\n",
        "\n",
        "        img_asc = img_asc[0]\n",
        "        img_ascs.append(deprocess_image(img_asc).reshape((28, 28)))\n",
        "        \n",
        "    if layer_output.shape[3] >= 35:\n",
        "        plot_x, plot_y = 6, 6\n",
        "    elif layer_output.shape[3] >= 23:\n",
        "        plot_x, plot_y = 4, 6\n",
        "    elif layer_output.shape[3] >= 11:\n",
        "        plot_x, plot_y = 2, 6\n",
        "    else:\n",
        "        plot_x, plot_y = 1, 2\n",
        "    fig, ax = plt.subplots(plot_x, plot_y, figsize = (12, 12))\n",
        "    ax[0, 0].imshow(img.reshape((28, 28)), cmap = 'gray')\n",
        "    ax[0, 0].set_title('Input image')\n",
        "    fig.suptitle('Input image and %s filters' % (layer_name,))\n",
        "    fig.tight_layout(pad = 0.3, rect = [0, 0, 0.9, 0.9])\n",
        "    for (x, y) in [(i, j) for i in range(plot_x) for j in range(plot_y)]:\n",
        "        if x == 0 and y == 0:\n",
        "            continue\n",
        "        ax[x, y].imshow(img_ascs[x * plot_y + y - 1], cmap = 'gray')\n",
        "        ax[x, y].set_title('filter %d' % (x * plot_y + y - 1))\n",
        "\n",
        "vis_img_in_filter()"
      ],
      "execution_count": 0,
      "outputs": [
        {
          "output_type": "error",
          "ename": "KeyError",
          "evalue": "ignored",
          "traceback": [
            "\u001b[0;31m---------------------------------------------------------------------------\u001b[0m",
            "\u001b[0;31mKeyError\u001b[0m                                  Traceback (most recent call last)",
            "\u001b[0;32m<ipython-input-65-19229f66b51a>\u001b[0m in \u001b[0;36m<module>\u001b[0;34m()\u001b[0m\n\u001b[1;32m     69\u001b[0m         \u001b[0max\u001b[0m\u001b[0;34m[\u001b[0m\u001b[0mx\u001b[0m\u001b[0;34m,\u001b[0m \u001b[0my\u001b[0m\u001b[0;34m]\u001b[0m\u001b[0;34m.\u001b[0m\u001b[0mset_title\u001b[0m\u001b[0;34m(\u001b[0m\u001b[0;34m'filter %d'\u001b[0m \u001b[0;34m%\u001b[0m \u001b[0;34m(\u001b[0m\u001b[0mx\u001b[0m \u001b[0;34m*\u001b[0m \u001b[0mplot_y\u001b[0m \u001b[0;34m+\u001b[0m \u001b[0my\u001b[0m \u001b[0;34m-\u001b[0m \u001b[0;36m1\u001b[0m\u001b[0;34m)\u001b[0m\u001b[0;34m)\u001b[0m\u001b[0;34m\u001b[0m\u001b[0;34m\u001b[0m\u001b[0m\n\u001b[1;32m     70\u001b[0m \u001b[0;34m\u001b[0m\u001b[0m\n\u001b[0;32m---> 71\u001b[0;31m \u001b[0mvis_img_in_filter\u001b[0m\u001b[0;34m(\u001b[0m\u001b[0;34m)\u001b[0m\u001b[0;34m\u001b[0m\u001b[0;34m\u001b[0m\u001b[0m\n\u001b[0m",
            "\u001b[0;32m<ipython-input-65-19229f66b51a>\u001b[0m in \u001b[0;36mvis_img_in_filter\u001b[0;34m(img, layer_name)\u001b[0m\n\u001b[1;32m     22\u001b[0m def vis_img_in_filter(img = np.array(X_train[2]).reshape((1, 28, 28, 1)).astype(np.float64), \n\u001b[1;32m     23\u001b[0m                       layer_name = 'conv2d_14'):\n\u001b[0;32m---> 24\u001b[0;31m     \u001b[0mlayer_output\u001b[0m \u001b[0;34m=\u001b[0m \u001b[0mlayer_dict\u001b[0m\u001b[0;34m[\u001b[0m\u001b[0mlayer_name\u001b[0m\u001b[0;34m]\u001b[0m\u001b[0;34m.\u001b[0m\u001b[0moutput\u001b[0m\u001b[0;34m\u001b[0m\u001b[0;34m\u001b[0m\u001b[0m\n\u001b[0m\u001b[1;32m     25\u001b[0m     \u001b[0mimg_ascs\u001b[0m \u001b[0;34m=\u001b[0m \u001b[0mlist\u001b[0m\u001b[0;34m(\u001b[0m\u001b[0;34m)\u001b[0m\u001b[0;34m\u001b[0m\u001b[0;34m\u001b[0m\u001b[0m\n\u001b[1;32m     26\u001b[0m     \u001b[0;32mfor\u001b[0m \u001b[0mfilter_index\u001b[0m \u001b[0;32min\u001b[0m \u001b[0mrange\u001b[0m\u001b[0;34m(\u001b[0m\u001b[0mlayer_output\u001b[0m\u001b[0;34m.\u001b[0m\u001b[0mshape\u001b[0m\u001b[0;34m[\u001b[0m\u001b[0;36m3\u001b[0m\u001b[0;34m]\u001b[0m\u001b[0;34m)\u001b[0m\u001b[0;34m:\u001b[0m\u001b[0;34m\u001b[0m\u001b[0;34m\u001b[0m\u001b[0m\n",
            "\u001b[0;31mKeyError\u001b[0m: 'conv2d_14'"
          ]
        }
      ]
    },
    {
      "cell_type": "code",
      "metadata": {
        "id": "9tvptcn8dxvp",
        "colab_type": "code",
        "colab": {}
      },
      "source": [
        ""
      ],
      "execution_count": 0,
      "outputs": []
    }
  ]
}